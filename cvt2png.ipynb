{
 "cells": [
  {
   "cell_type": "code",
   "execution_count": 1,
   "metadata": {},
   "outputs": [],
   "source": [
    "import cv2\n",
    "import os\n",
    "from shutil import rmtree\n",
    "from PIL import Image\n",
    "import numpy as np"
   ]
  },
  {
   "cell_type": "code",
   "execution_count": 2,
   "metadata": {},
   "outputs": [],
   "source": [
    "src_dir = '../training_dataset/motobike/'\n",
    "dst_dir = '../training_dataset/training_data/motobike_png/'"
   ]
  },
  {
   "cell_type": "code",
   "execution_count": 3,
   "metadata": {},
   "outputs": [],
   "source": [
    "if os.path.exists(dst_dir):\n",
    "    rmtree(dst_dir)\n",
    "    \n",
    "os.makedirs(dst_dir)"
   ]
  },
  {
   "cell_type": "code",
   "execution_count": 4,
   "metadata": {},
   "outputs": [],
   "source": [
    "def load_save_cv2(src_path, dst_path):\n",
    "    img = cv2.imread(src_path)\n",
    "    return cv2.imwrite(dst_path, img)\n",
    "\n",
    "\n",
    "def load_save_pil(src_path, dst_path):\n",
    "    img = np.array(Image.open(src_path).convert('RGB'))\n",
    "    img = cv2.cvtColor(img, cv2.COLOR_RGB2BGR)\n",
    "    return cv2.imwrite(dst_path, img)"
   ]
  },
  {
   "cell_type": "code",
   "execution_count": 5,
   "metadata": {},
   "outputs": [],
   "source": [
    "for filename in os.listdir(src_dir):\n",
    "    name = filename.split('.')\n",
    "    name[-1] = 'png'\n",
    "    new_name = '.'.join(name)\n",
    "    \n",
    "    src_path = os.path.join(src_dir, filename)\n",
    "    dst_path = os.path.join(dst_dir, new_name)\n",
    "    \n",
    "    if load_save_cv2(src_path, dst_path) is False:\n",
    "        ret = load_save_pil(src_path, dst_path)\n",
    "        if ret is False:\n",
    "            print('Failed to open {}'.format(src_path))"
   ]
  },
  {
   "cell_type": "code",
   "execution_count": null,
   "metadata": {},
   "outputs": [],
   "source": []
  }
 ],
 "metadata": {
  "kernelspec": {
   "display_name": "Python 3",
   "language": "python",
   "name": "python3"
  },
  "language_info": {
   "codemirror_mode": {
    "name": "ipython",
    "version": 3
   },
   "file_extension": ".py",
   "mimetype": "text/x-python",
   "name": "python",
   "nbconvert_exporter": "python",
   "pygments_lexer": "ipython3",
   "version": "3.5.6"
  }
 },
 "nbformat": 4,
 "nbformat_minor": 2
}
